{
 "cells": [
  {
   "cell_type": "code",
   "execution_count": 1,
   "metadata": {},
   "outputs": [
    {
     "ename": "Exception",
     "evalue": "Failed to Connect to RDS Database: connection to server at \"tidalbasin-cdbg-dr-fl-ida-backendauroraclusterclus-mopwhclky2lb.cluster-ro-ce8xd2bu2edx.us-east-2.rds.amazonaws.com\" (10.0.136.135), port 5432 failed: Connection timed out (0x0000274C/10060)\n\tIs the server running on that host and accepting TCP/IP connections?\n",
     "output_type": "error",
     "traceback": [
      "\u001b[1;31m---------------------------------------------------------------------------\u001b[0m",
      "\u001b[1;31mOperationalError\u001b[0m                          Traceback (most recent call last)",
      "File \u001b[1;32mc:\\git\\Tidal Basin\\Python\\Dev\\rds_connection.py:57\u001b[0m, in \u001b[0;36mconnect_rds\u001b[1;34m(username, password, db, server)\u001b[0m\n\u001b[0;32m     54\u001b[0m \u001b[38;5;28;01mtry\u001b[39;00m:\n\u001b[0;32m     55\u001b[0m \n\u001b[0;32m     56\u001b[0m     \u001b[38;5;66;03m#Connect to the AWS RDS Database\u001b[39;00m\n\u001b[1;32m---> 57\u001b[0m     conn \u001b[38;5;241m=\u001b[39m \u001b[43mpsycopg2\u001b[49m\u001b[38;5;241;43m.\u001b[39;49m\u001b[43mconnect\u001b[49m\u001b[43m(\u001b[49m\n\u001b[0;32m     58\u001b[0m \u001b[43m        \u001b[49m\u001b[43mhost\u001b[49m\u001b[43m \u001b[49m\u001b[38;5;241;43m=\u001b[39;49m\u001b[43m \u001b[49m\u001b[43mserver\u001b[49m\u001b[43m,\u001b[49m\n\u001b[0;32m     59\u001b[0m \u001b[43m        \u001b[49m\u001b[43mport\u001b[49m\u001b[43m \u001b[49m\u001b[38;5;241;43m=\u001b[39;49m\u001b[43m \u001b[49m\u001b[38;5;241;43m5432\u001b[39;49m\u001b[43m,\u001b[49m\n\u001b[0;32m     60\u001b[0m \u001b[43m        \u001b[49m\u001b[43muser\u001b[49m\u001b[43m \u001b[49m\u001b[38;5;241;43m=\u001b[39;49m\u001b[43m \u001b[49m\u001b[43musername\u001b[49m\u001b[43m,\u001b[49m\n\u001b[0;32m     61\u001b[0m \u001b[43m        \u001b[49m\u001b[43mpassword\u001b[49m\u001b[43m \u001b[49m\u001b[38;5;241;43m=\u001b[39;49m\u001b[43m \u001b[49m\u001b[43mpassword\u001b[49m\u001b[43m,\u001b[49m\n\u001b[0;32m     62\u001b[0m \u001b[43m        \u001b[49m\u001b[43mdatabase\u001b[49m\u001b[38;5;241;43m=\u001b[39;49m\u001b[43m \u001b[49m\u001b[43mdb\u001b[49m\n\u001b[0;32m     63\u001b[0m \u001b[43m    \u001b[49m\u001b[43m)\u001b[49m\n\u001b[0;32m     65\u001b[0m     cursor \u001b[38;5;241m=\u001b[39m conn\u001b[38;5;241m.\u001b[39mcursor()\n",
      "File \u001b[1;32mc:\\Users\\Charles.Ross\\Anaconda3\\envs\\tidal_basin\\lib\\site-packages\\psycopg2\\__init__.py:122\u001b[0m, in \u001b[0;36mconnect\u001b[1;34m(dsn, connection_factory, cursor_factory, **kwargs)\u001b[0m\n\u001b[0;32m    121\u001b[0m dsn \u001b[38;5;241m=\u001b[39m _ext\u001b[38;5;241m.\u001b[39mmake_dsn(dsn, \u001b[38;5;241m*\u001b[39m\u001b[38;5;241m*\u001b[39mkwargs)\n\u001b[1;32m--> 122\u001b[0m conn \u001b[38;5;241m=\u001b[39m _connect(dsn, connection_factory\u001b[38;5;241m=\u001b[39mconnection_factory, \u001b[38;5;241m*\u001b[39m\u001b[38;5;241m*\u001b[39mkwasync)\n\u001b[0;32m    123\u001b[0m \u001b[38;5;28;01mif\u001b[39;00m cursor_factory \u001b[38;5;129;01mis\u001b[39;00m \u001b[38;5;129;01mnot\u001b[39;00m \u001b[38;5;28;01mNone\u001b[39;00m:\n",
      "\u001b[1;31mOperationalError\u001b[0m: connection to server at \"tidalbasin-cdbg-dr-fl-ida-backendauroraclusterclus-mopwhclky2lb.cluster-ro-ce8xd2bu2edx.us-east-2.rds.amazonaws.com\" (10.0.136.135), port 5432 failed: Connection timed out (0x0000274C/10060)\n\tIs the server running on that host and accepting TCP/IP connections?\n",
      "\nDuring handling of the above exception, another exception occurred:\n",
      "\u001b[1;31mException\u001b[0m                                 Traceback (most recent call last)",
      "Cell \u001b[1;32mIn[1], line 52\u001b[0m\n\u001b[0;32m     48\u001b[0m query_package \u001b[38;5;241m=\u001b[39m get_query_package()\n\u001b[0;32m     51\u001b[0m \u001b[38;5;66;03m# Store RDS Functions Locally\u001b[39;00m\n\u001b[1;32m---> 52\u001b[0m conn, cursor \u001b[38;5;241m=\u001b[39m \u001b[43mconnect_rds\u001b[49m\u001b[43m(\u001b[49m\u001b[43musername\u001b[49m\u001b[43m,\u001b[49m\u001b[43m \u001b[49m\u001b[43mpassword\u001b[49m\u001b[43m,\u001b[49m\u001b[43m \u001b[49m\u001b[43mdb\u001b[49m\u001b[43m,\u001b[49m\u001b[43m \u001b[49m\u001b[43mserver\u001b[49m\u001b[43m)\u001b[49m \u001b[38;5;66;03m# Connect to RDS Database\u001b[39;00m\n\u001b[0;32m     53\u001b[0m rds \u001b[38;5;241m=\u001b[39m RDS(conn, cursor, query_package) \u001b[38;5;66;03m# Create Instance of RDS Table\u001b[39;00m\n\u001b[0;32m     54\u001b[0m df \u001b[38;5;241m=\u001b[39m rds\u001b[38;5;241m.\u001b[39mdf\n",
      "File \u001b[1;32mc:\\git\\Tidal Basin\\Python\\Dev\\rds_connection.py:74\u001b[0m, in \u001b[0;36mconnect_rds\u001b[1;34m(username, password, db, server)\u001b[0m\n\u001b[0;32m     68\u001b[0m     \u001b[38;5;28;01mreturn\u001b[39;00m conn, cursor\n\u001b[0;32m     71\u001b[0m \u001b[38;5;28;01mexcept\u001b[39;00m \u001b[38;5;167;01mException\u001b[39;00m \u001b[38;5;28;01mas\u001b[39;00m e:\n\u001b[0;32m     72\u001b[0m     \n\u001b[0;32m     73\u001b[0m     \u001b[38;5;66;03m# Raise Exception to Stop Process if Failure\u001b[39;00m\n\u001b[1;32m---> 74\u001b[0m     \u001b[38;5;28;01mraise\u001b[39;00m \u001b[38;5;167;01mException\u001b[39;00m(\u001b[38;5;124mf\u001b[39m\u001b[38;5;124m\"\u001b[39m\u001b[38;5;124mFailed to Connect to RDS Database: \u001b[39m\u001b[38;5;132;01m{\u001b[39;00me\u001b[38;5;132;01m}\u001b[39;00m\u001b[38;5;124m\"\u001b[39m)\n",
      "\u001b[1;31mException\u001b[0m: Failed to Connect to RDS Database: connection to server at \"tidalbasin-cdbg-dr-fl-ida-backendauroraclusterclus-mopwhclky2lb.cluster-ro-ce8xd2bu2edx.us-east-2.rds.amazonaws.com\" (10.0.136.135), port 5432 failed: Connection timed out (0x0000274C/10060)\n\tIs the server running on that host and accepting TCP/IP connections?\n"
     ]
    }
   ],
   "source": [
    "import requests\n",
    "import traceback\n",
    "import os\n",
    "import boto3\n",
    "import pandas as pd\n",
    "from dotenv import load_dotenv\n",
    "from query_package import get_query_package\n",
    "from datetime import datetime\n",
    "\n",
    "import rds_clean_utils\n",
    "import rds_connection\n",
    "import rds_processor\n",
    "import rds_query_utils\n",
    "\n",
    "import s3_bucket_util\n",
    "\n",
    "from rds_processor import RDS\n",
    "from rds_connection import connect_rds\n",
    "\n",
    "# GitHub Access \n",
    "token = os.getenv('GITHUBTOKEN')\n",
    "\n",
    "# AWS Access\n",
    "access = os.getenv('ACCESS')\n",
    "secret = os.getenv('SECRET')\n",
    "\n",
    "# RDS Access\n",
    "username = os.getenv('USER')\n",
    "password = os.getenv('PASS')\n",
    "server = os.getenv('SERVER')\n",
    "db = os.getenv('DB')\n",
    "\n",
    "bucket = os.getenv('BUCKET')    # AWS RDS bucket name\n",
    "project_folder = os.getenv('PROJECTFOLDER')     # AWS S3 Project Folder Path\n",
    "active_folder = os.getenv('ACTIVEFOLDER')    # AWS S3 Project Active Folder Path\n",
    "archive_folder = os.getenv('ARCHIVEFOLDER')\n",
    "\n",
    "\n",
    "# Create a Boto3 client for S3\n",
    "s3 = boto3.client(\n",
    "    's3',\n",
    "    aws_access_key_id=access,\n",
    "    aws_secret_access_key=secret\n",
    ")\n",
    "\n",
    "\n",
    "# Pull Query Package from File\n",
    "query_package = get_query_package()\n",
    "\n",
    "\n",
    "# Store RDS Functions Locally\n",
    "conn, cursor = connect_rds(username, password, db, server) # Connect to RDS Database\n",
    "rds = RDS(conn, cursor, query_package) # Create Instance of RDS Table\n",
    "df = rds.df"
   ]
  },
  {
   "cell_type": "code",
   "execution_count": null,
   "metadata": {},
   "outputs": [],
   "source": []
  }
 ],
 "metadata": {
  "kernelspec": {
   "display_name": "tidal_basin",
   "language": "python",
   "name": "python3"
  },
  "language_info": {
   "codemirror_mode": {
    "name": "ipython",
    "version": 3
   },
   "file_extension": ".py",
   "mimetype": "text/x-python",
   "name": "python",
   "nbconvert_exporter": "python",
   "pygments_lexer": "ipython3",
   "version": "3.9.20"
  }
 },
 "nbformat": 4,
 "nbformat_minor": 2
}
