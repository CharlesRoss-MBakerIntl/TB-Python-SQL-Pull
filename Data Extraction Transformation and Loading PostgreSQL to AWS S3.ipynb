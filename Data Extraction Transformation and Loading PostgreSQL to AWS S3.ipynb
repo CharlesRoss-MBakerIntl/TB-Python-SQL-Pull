{
 "cells": [
  {
   "cell_type": "markdown",
   "metadata": {},
   "source": [
    "# Data Extraction, Transformation, and Loading: PostgreSQL to AWS S3\n",
    "\n",
    "This notebook provides a step-by-step guide to perform the necessary steps to extract data from a PostgreSQL database, transform it, and load it into an Amazon S3 bucket. Specifically, you will:\n",
    "\n",
    "1. **Connect to the PostgreSQL Database**: Utilize the `psycopg2` library to establish a connection to the database and execute SQL queries to retrieve data.\n",
    "\n",
    "2. **Convert SQL Query Results into a Pandas DataFrame**: Leverage the `pandas` library to convert the retrieved data into a DataFrame for easier handling and manipulation.\n",
    "\n",
    "3. **Transform the Data**: Apply ETL (Extract, Transform, Load) operations on the DataFrame to clean and prepare the data for further use.\n",
    "\n",
    "4. **Upload the Transformed Data to S3**: Use the `boto3` library to send the prepared data to an Amazon S3 bucket for storage.\n",
    "\n",
    "This notebook serves as a practical tool to guide you through these steps, ensuring a seamless data extraction, transformation, and loading process. Let's dive in!\n"
   ]
  },
  {
   "cell_type": "markdown",
   "metadata": {},
   "source": [
    "<br><br>"
   ]
  },
  {
   "cell_type": "markdown",
   "metadata": {},
   "source": [
    "# Loading Libraries and Packages\n",
    "\n",
    "Before we begin with the data extraction and transformation process, we need to load the necessary libraries and packages. This section will ensure that we have all the tools required to connect to the PostgreSQL database, manipulate the data, and interact with AWS S3.\n",
    "\n",
    "\n",
    "### Checking and Installing Required Packages\n",
    "To ensure that our environment has all the necessary packages for this notebook, we will first check if each package is installed. If any of the required packages are missing, we will download and install them. This step is crucial to avoid any interruptions during our data extraction, transformation, and loading process. Run the cell below by hitting **Control + Enter**."
   ]
  },
  {
   "cell_type": "code",
   "execution_count": 1,
   "metadata": {},
   "outputs": [
    {
     "name": "stdout",
     "output_type": "stream",
     "text": [
      "All required packages are installed.\n"
     ]
    }
   ],
   "source": [
    "import subprocess\n",
    "import sys\n",
    "\n",
    "# Function to install packages\n",
    "def install_package(package):\n",
    "    subprocess.check_call([sys.executable, \"-m\", \"pip\", \"install\", package])\n",
    "\n",
    "# List of required packages\n",
    "required_packages = [\n",
    "    'requests',\n",
    "    'traceback',\n",
    "    'os',\n",
    "    'boto3',\n",
    "    'pandas',\n",
    "    'dotenv',\n",
    "    'datetime',\n",
    "    'psycopg2'\n",
    "]\n",
    "\n",
    "# Checking and installing packages\n",
    "for package in required_packages:\n",
    "    try:\n",
    "        __import__(package)\n",
    "    except ImportError:\n",
    "        print(f\"{package} not found. Installing...\")\n",
    "        install_package(package)\n",
    "\n",
    "print(\"All required packages are installed.\")"
   ]
  },
  {
   "cell_type": "markdown",
   "metadata": {},
   "source": [
    "### Explanation of Packages\n",
    "\n",
    "- **requests**: A library for making HTTP requests to interact with web services and APIs.\n",
    "- **traceback**: A module for printing or retrieving a stack traceback, useful for debugging and error handling.\n",
    "- **os**: A module that provides a way to interact with the operating system, allowing us to access environment variables, file paths, and more.\n",
    "- **boto3**: The AWS SDK for Python, which allows us to interact with Amazon Web Services (AWS), such as S3, EC2, and more.\n",
    "- **pandas**: A powerful data manipulation and analysis library that provides data structures like DataFrames for handling and analyzing data.\n",
    "- **dotenv**: A library for reading key-value pairs from a `.env` file and loading them into the environment, useful for managing configuration and credentials.\n",
    "- **datetime**: A module for working with dates and times, enabling us to manipulate and format date and time data.\n",
    "- **psycopg2**: A PostgreSQL adapter for Python that allows us to connect to a PostgreSQL database and execute SQL queries.\n",
    "\n",
    "Now let's import these libraries and packages to ensure we have everything we need for our data processing workflow.\n"
   ]
  },
  {
   "cell_type": "code",
   "execution_count": 2,
   "metadata": {},
   "outputs": [],
   "source": [
    "import requests\n",
    "import traceback\n",
    "import os\n",
    "import boto3\n",
    "import pandas as pd\n",
    "from dotenv import load_dotenv\n",
    "from datetime import datetime\n",
    "import psycopg2"
   ]
  },
  {
   "cell_type": "markdown",
   "metadata": {},
   "source": [
    "### Importing Packages and Functions from Local Python Files\n",
    "\n",
    "In this section, we will import any additional packages and custom functions from local Python files. This step ensures that all necessary modules and functions specific to our project are available for use.\n"
   ]
  },
  {
   "cell_type": "code",
   "execution_count": 3,
   "metadata": {},
   "outputs": [],
   "source": [
    "from query_package import set_project\n",
    "from query_package import build_query_package\n",
    "\n",
    "from rds_connection import connect_rds\n",
    "from rds_processor import RDS\n",
    "\n",
    "from s3_bucket_util import update_active_data\n",
    "from s3_bucket_util import add_archive"
   ]
  },
  {
   "cell_type": "markdown",
   "metadata": {},
   "source": [
    "# Loading Environment Variables\n",
    "\n",
    "In this section, we will explain how to load environment variables from a `.env` file. These variables are used to securely store sensitive information such as tokens, usernames, passwords, and paths that your application requires to function. This approach helps to keep such details out of your source code, enhancing security and making it easier to manage configurations."
   ]
  },
  {
   "cell_type": "code",
   "execution_count": 4,
   "metadata": {},
   "outputs": [],
   "source": [
    "#Load Environment Variables\n",
    "access = os.getenv('ACCESS')    # AWS access token\n",
    "secret = os.getenv('SECRET')    # AWS secret token\n",
    "username = os.getenv('USER')    # AWS RDS username\n",
    "password = os.getenv('PASS')    #AWS RDS password\n",
    "server = os.getenv('SERVER')    # AWS RDS server\n",
    "db = os.getenv('DB')    # AWS RDS database\n",
    "bucket = os.getenv('BUCKET')    # AWS RDS bucket name"
   ]
  },
  {
   "cell_type": "markdown",
   "metadata": {},
   "source": [
    "<br><br>"
   ]
  },
  {
   "cell_type": "markdown",
   "metadata": {},
   "source": [
    "# Forming the SQL Query\n",
    "\n",
    "## Input Project and Questions Information\n",
    "\n",
    "To begin, we need to gather the necessary project details and specific questions we aim to answer. This information will help us build an effective SQL query to retrieve the required data from the PostgreSQL database.\n",
    "\n",
    "### Selecting the Project\n",
    "The first step is to select the project you are working on. This can either be **Helene** or **Milton**. Depending on the project selected, the structure and requirements of the SQL query may vary. Make sure to choose the project that aligns with your current focus to ensure accurate data retrieval and analysis.\n",
    "Once the project is selected, we will proceed to define the specific questions or objectives that the SQL query aims to address. This will guide the formulation of the query and ensure that the retrieved data is relevant and useful for our analysis.\n",
    "\n",
    "> **Note:** If project names or codes need to be updated, this must be done in the Python file called `query_package` in the folder. The section that must be updated is located near the top and is called `project_dictionary`.\n",
    "\n",
    "\n"
   ]
  },
  {
   "cell_type": "code",
   "execution_count": 5,
   "metadata": {},
   "outputs": [
    {
     "name": "stdout",
     "output_type": "stream",
     "text": [
      "You've selected  Helene  ID:34\n",
      "If the name and id are correct please proceed.  If not, please review and update the project dicitonary in query_package.py\n"
     ]
    }
   ],
   "source": [
    "project = set_project(\"Helene\")"
   ]
  },
  {
   "cell_type": "markdown",
   "metadata": {},
   "source": [
    "<div style=\"height: 10px;\"></div>"
   ]
  },
  {
   "cell_type": "markdown",
   "metadata": {},
   "source": [
    "### Adding Questions\n",
    "\n",
    "Below, you will find the format for each question that you will want to pull from the SQL Database. Each question will result in a field in the overall table. This format ensures that all necessary information is included for building the SQL query. To add more questions, simply copy and paste the blank first question into the list in the cell below.\n",
    "\n",
    "#### Explanation of Dictionary Entries\n",
    "\n",
    "- **name**: This specifies what we want to name the field in the final dataset and will be used for joining when performing the query. Names of fields are recommended to be all lower case with spaces replaced by **\"_\"**. For example, 'hotel_name' or 'room_rate'.\n",
    "  \n",
    "- **single_or_repeat**: Indicates whether the question pertains to a single-entry ('SINGLE') or repeated entries ('REPEAT') within the PostgreSQL database.\n",
    "  \n",
    "- **data_source**: Refers to the table source within the PostgreSQL database where the question data can be found. For example, an answer containing integers will be stored in **application_data_numberanswer**.\n",
    "  \n",
    "- **question_id**: A unique identifier for the question, typically an integer that corresponds to the specific question in the database.\n",
    "  \n",
    "- **fields**: This specifies how we will rename the field to its official name when finally added into the overall dataset. The left side of the pair needs to be the name of the field stored in the question table within the **data_source** section, and the other side will be the name of the field we want in our final table. For example, in the **application_data_textboxanswer** table in the PostgreSQL database, answers are stored in a field called **value**. Therefore, **value** will be on the left side of the pair, but when we add this to the final dataset, we want a more unique name, so we add the desired field name to the right side of the pair. When we get a DataFrame back, the field is now named **hotel_name**. This must be done for all fields that we want to pull from the data source table in the PostgreSQL database. View the two examples below, and be sure to notice the difference in the fields section between the two questions.  It is recommended that you name this field after the name of the join in the first part of the package.\n",
    "\n",
    "\n",
    "\n",
    "#### EXAMPLE\n",
    "```python\n",
    "questions = [\n",
    "    {\n",
    "        'name': 'hotel_name',\n",
    "        'single_or_repeat': 'SINGLE',\n",
    "        'data_source': 'application_data_textboxanswer',\n",
    "        'question_id': 1015,\n",
    "        'fields': [{'value': 'hotel_name'}]\n",
    "    },\n",
    "\n",
    "    {\n",
    "        'name': 'hotel_address',\n",
    "        'single_or_repeat': 'REPEATING',\n",
    "        'question_id': 1016,\n",
    "        'data_source': 'application_data_addressanswer',\n",
    "        'fields': {\n",
    "            'line1': 'hotel_address_line_1',\n",
    "            'line2': 'hotel_address_line_2',\n",
    "            'city': 'hotel_city',\n",
    "            'state': 'hotel_state',\n",
    "            'zip': 'hotel_zip'\n",
    "        }\n",
    "    }\n",
    "]\n",
    "\n"
   ]
  },
  {
   "cell_type": "markdown",
   "metadata": {},
   "source": [
    "#### Fill Out the Question List\n",
    "\n",
    "To fill out the questions package, simply fill out each section with the information needed.  If more questions are needed, place a comm behind the closing **\"}\"**, then copy and paste a blank package of information below, make sure not to place it below the **\"]\"** at the very bottom of the cell. Repeat untill you have the total list of fields you want pulled from the PostgreSQL database. After you are done, hit **CONTROL + ENTER** to finalize.  In thi cell below the questions package is an example for pulling a database that focuses on hotel information.  You can use this as a reference while building out your own questions package.  Hit the **Click to Expand** to view this example"
   ]
  },
  {
   "cell_type": "code",
   "execution_count": 6,
   "metadata": {},
   "outputs": [],
   "source": [
    "questions = [\n",
    "    \n",
    "    {\n",
    "        'name': '',\n",
    "        'single_or_repeat': '',\n",
    "        'data_source': '',\n",
    "        'question_id': 0,\n",
    "        'fields': [{'': ''}]\n",
    "    },\n",
    "\n",
    "    {\n",
    "        'name': '',\n",
    "        'single_or_repeat': '',\n",
    "        'data_source': '',\n",
    "        'question_id': 0,\n",
    "        'fields': [{'': ''}]\n",
    "    },\n",
    "\n",
    "    {\n",
    "        'name': '',\n",
    "        'single_or_repeat': '',\n",
    "        'data_source': '',\n",
    "        'question_id': 0,\n",
    "        'fields': [{'': ''}]\n",
    "    }\n",
    "\n",
    "\n",
    "\n",
    "\n",
    "]"
   ]
  },
  {
   "cell_type": "code",
   "execution_count": 7,
   "metadata": {},
   "outputs": [],
   "source": [
    "questions = [\n",
    "    \n",
    "    {'name': 'hotel_name',\n",
    "    'single_or_repeat': 'SINGLE',\n",
    "    'data_source': 'application_data_textboxanswer',\n",
    "    'question_id': 1015,\n",
    "    'fields' : [{'value':'hotel_name'}]\n",
    "    },\n",
    "\n",
    "\n",
    "    {'name': 'hotel_address',\n",
    "    'single_or_repeat': 'REPEATING',\n",
    "    'question_id': 1016,\n",
    "    'data_source': 'application_data_addressanswer',\n",
    "    'fields': [{'line1':'hotel_address_line_1',\n",
    "                'line2': 'hotel_address_line_2',\n",
    "                'city' : 'hotel_city',\n",
    "                'state': 'hotel_state',\n",
    "                'zip' : 'hotel_zip'}]\n",
    "    },\n",
    "\n",
    "\n",
    "    {'name': 'hotel_status',\n",
    "    'single_or_repeat': 'REPEATING',\n",
    "    'data_source': 'application_data_singleselectanswer',\n",
    "    'question_id': 1013,\n",
    "    'fields': [{'value':'hotel_status'}]\n",
    "    },\n",
    "\n",
    "\n",
    "    {'name': 'license_in',\n",
    "    'single_or_repeat': 'REPEATING',\n",
    "    'data_source': 'application_data_dateanswer',\n",
    "    'question_id': 1021,\n",
    "    'fields': [{'value':'license_in'}]\n",
    "    },\n",
    "\n",
    "\n",
    "    {'name': 'license_out',\n",
    "    'single_or_repeat': 'REPEATING',\n",
    "    'data_source': 'application_data_dateanswer',\n",
    "    'question_id': 1022,\n",
    "    'fields': [{'value':'license_out'}]\n",
    "    },\n",
    "\n",
    "\n",
    "    {'name': 'total_in_household',\n",
    "    'single_or_repeat': 'SINGLE',\n",
    "    'data_source': 'application_data_numberanswer',\n",
    "    'question_id': 596,\n",
    "    'fields': [{'value':'total_in_household'}]\n",
    "    },\n",
    "\n",
    "\n",
    "    {'name': 'active_bookings',\n",
    "    'single_or_repeat': 'SINGLE',\n",
    "    'data_source': 'application_data_numberanswer',\n",
    "    'question_id': 1010,\n",
    "    'fields': [{'value':'active_bookings'}]\n",
    "    },\n",
    "\n",
    "    {'name': 'pathway_determination',\n",
    "    'single_or_repeat': 'SINGLE',\n",
    "    'data_source': 'application_data_singleselectanswer',\n",
    "    'question_id': 632,\n",
    "    'fields': [{'value':'pathway_determination'}]\n",
    "    }\n",
    "]"
   ]
  },
  {
   "cell_type": "markdown",
   "metadata": {},
   "source": [
    "#### EXAMPLE HOTEL SUMMARIES QUESTION LIST\n",
    "\n",
    "<details> <summary>Click to expand</summary>\n",
    "\n",
    "```python\n",
    "questions = [\n",
    "    \n",
    "    {'name': 'hotel_name',\n",
    "    'single_or_repeat': 'SINGLE',\n",
    "    'data_source': 'application_data_textboxanswer',\n",
    "    'question_id': 1015,\n",
    "    'fields' : [{'value':'hotel_name'}]\n",
    "    },\n",
    "\n",
    "\n",
    "    {'name': 'hotel_address',\n",
    "    'single_or_repeat': 'REPEATING',\n",
    "    'question_id': 1016,\n",
    "    'data_source': 'application_data_addressanswer',\n",
    "    'fields': [{'line1':'hotel_address_line_1',\n",
    "                'line2': 'hotel_address_line_2',\n",
    "                'city' : 'hotel_city',\n",
    "                'state': 'hotel_state',\n",
    "                'zip' : 'hotel_zip'}]\n",
    "    },\n",
    "\n",
    "\n",
    "    {'name': 'hotel_status',\n",
    "    'single_or_repeat': 'REPEATING',\n",
    "    'data_source': 'application_data_singleselectanswer',\n",
    "    'question_id': 1013,\n",
    "    'fields': [{'value':'hotel_status'}]\n",
    "    },\n",
    "\n",
    "\n",
    "    {'name': 'license_in',\n",
    "    'single_or_repeat': 'REPEATING',\n",
    "    'data_source': 'application_data_dateanswer',\n",
    "    'question_id': 1021,\n",
    "    'fields': [{'value':'license_in'}]\n",
    "    },\n",
    "\n",
    "\n",
    "    {'name': 'license_out',\n",
    "    'single_or_repeat': 'REPEATING',\n",
    "    'data_source': 'application_data_dateanswer',\n",
    "    'question_id': 1022,\n",
    "    'fields': [{'value':'license_out'}]\n",
    "    },\n",
    "\n",
    "\n",
    "    {'name': 'total_in_household',\n",
    "    'single_or_repeat': 'SINGLE',\n",
    "    'data_source': 'application_data_numberanswer',\n",
    "    'question_id': 596,\n",
    "    'fields': [{'value':'total_in_household'}]\n",
    "    },\n",
    "\n",
    "\n",
    "    {'name': 'active_bookings',\n",
    "    'single_or_repeat': 'SINGLE',\n",
    "    'data_source': 'application_data_numberanswer',\n",
    "    'question_id': 1010,\n",
    "    'fields': [{'value':'active_bookings'}]\n",
    "    },\n",
    "\n",
    "    {'name': 'pathway_determination',\n",
    "    'single_or_repeat': 'SINGLE',\n",
    "    'data_source': 'application_data_singleselectanswer',\n",
    "    'question_id': 632,\n",
    "    'fields': [{'value':'pathway_determination'}]\n",
    "    }\n",
    "]\n",
    "\n",
    "</details>"
   ]
  },
  {
   "cell_type": "markdown",
   "metadata": {},
   "source": [
    "<div style=\"height: 20px;\"></div>"
   ]
  },
  {
   "cell_type": "markdown",
   "metadata": {},
   "source": [
    "### Build the Query\n",
    "\n",
    "Now we'll put all of this together, run the cell below to build the entire query package that we will be sending to the postgres database.  After the function is run, you can view the entire package by running the cell that is labeled **View Package**.  Remember, we need both the project and the questions in order build the query, if you haven't hit **CONTROL + ENTER** on these cells, its time to do it now.\n"
   ]
  },
  {
   "cell_type": "code",
   "execution_count": 8,
   "metadata": {},
   "outputs": [],
   "source": [
    "query_package = build_query_package(project, questions)"
   ]
  },
  {
   "cell_type": "markdown",
   "metadata": {},
   "source": [
    "##### VIEW PACKAGE"
   ]
  },
  {
   "cell_type": "code",
   "execution_count": 9,
   "metadata": {},
   "outputs": [
    {
     "data": {
      "text/plain": [
       "{'source': {'table': 'applications_application',\n",
       "  'name': 'app',\n",
       "  'fields': [{'application_number': 'application_number',\n",
       "    'created_at': 'created_at'}],\n",
       "  'project': 34,\n",
       "  'order': 'id'},\n",
       " 'join_list': [{'name': 'hotel_name',\n",
       "   'single_or_repeat': 'SINGLE',\n",
       "   'data_source': 'application_data_textboxanswer',\n",
       "   'question_id': 1015,\n",
       "   'fields': [{'value': 'hotel_name'}]},\n",
       "  {'name': 'hotel_address',\n",
       "   'single_or_repeat': 'REPEATING',\n",
       "   'question_id': 1016,\n",
       "   'data_source': 'application_data_addressanswer',\n",
       "   'fields': [{'line1': 'hotel_address_line_1',\n",
       "     'line2': 'hotel_address_line_2',\n",
       "     'city': 'hotel_city',\n",
       "     'state': 'hotel_state',\n",
       "     'zip': 'hotel_zip'}]},\n",
       "  {'name': 'hotel_status',\n",
       "   'single_or_repeat': 'REPEATING',\n",
       "   'data_source': 'application_data_singleselectanswer',\n",
       "   'question_id': 1013,\n",
       "   'fields': [{'value': 'hotel_status'}]},\n",
       "  {'name': 'license_in',\n",
       "   'single_or_repeat': 'REPEATING',\n",
       "   'data_source': 'application_data_dateanswer',\n",
       "   'question_id': 1021,\n",
       "   'fields': [{'value': 'license_in'}]},\n",
       "  {'name': 'license_out',\n",
       "   'single_or_repeat': 'REPEATING',\n",
       "   'data_source': 'application_data_dateanswer',\n",
       "   'question_id': 1022,\n",
       "   'fields': [{'value': 'license_out'}]},\n",
       "  {'name': 'total_in_household',\n",
       "   'single_or_repeat': 'SINGLE',\n",
       "   'data_source': 'application_data_numberanswer',\n",
       "   'question_id': 596,\n",
       "   'fields': [{'value': 'total_in_household'}]},\n",
       "  {'name': 'active_bookings',\n",
       "   'single_or_repeat': 'SINGLE',\n",
       "   'data_source': 'application_data_numberanswer',\n",
       "   'question_id': 1010,\n",
       "   'fields': [{'value': 'active_bookings'}]},\n",
       "  {'name': 'pathway_determination',\n",
       "   'single_or_repeat': 'SINGLE',\n",
       "   'data_source': 'application_data_singleselectanswer',\n",
       "   'question_id': 632,\n",
       "   'fields': [{'value': 'pathway_determination'}]}]}"
      ]
     },
     "execution_count": 9,
     "metadata": {},
     "output_type": "execute_result"
    }
   ],
   "source": [
    "query_package"
   ]
  },
  {
   "cell_type": "markdown",
   "metadata": {},
   "source": [
    "<br></br>"
   ]
  },
  {
   "cell_type": "markdown",
   "metadata": {},
   "source": [
    "## Connecting to PostgreSQL Database and Creating a Pandas DataFrame\n",
    "\n",
    "In this section, we will take the recently created query package and connect to our PostgreSQL database. Using the package, we will pull data from the database and convert it into a pandas DataFrame for further analysis.\n",
    "\n",
    "### Steps to Connect and Retrieve Data\n",
    "\n",
    "1. **Establish Database Connection**\n",
    "   - Next, we will establish a connection to our PostgreSQL database using the connection credentials.\n",
    "\n",
    "2. **Execute Query and Retrieve Data**\n",
    "   - Using the query package, we will execute SQL queries to pull data from the database.\n",
    "\n",
    "3. **Convert Data to Pandas DataFrame**\n",
    "   - Finally, we will convert the retrieved data into a pandas DataFrame for ease of data manipulation and analysis.\n"
   ]
  },
  {
   "cell_type": "markdown",
   "metadata": {},
   "source": [
    "### Connect to the PostgreSQL Database\n",
    "\n",
    "Below we'll use a function in the **rds_connection.py** file that will use the username, password, database name, and server named stored in the enviroment file to acess the PostgreSQL database.  Run the cell below to connect, if an error is returned, review the credentials in the .env file and try again."
   ]
  },
  {
   "cell_type": "code",
   "execution_count": 10,
   "metadata": {},
   "outputs": [],
   "source": [
    "conn, cursor = connect_rds(username, password, db, server)"
   ]
  },
  {
   "cell_type": "markdown",
   "metadata": {},
   "source": [
    "<div style=\"height: 10px;\"></div>"
   ]
  },
  {
   "cell_type": "markdown",
   "metadata": {},
   "source": [
    "### Create RDS Connector Tool and Pull Dataframe\n",
    "\n",
    "Now we'll pull something called the RDS Connector Tool from a local file called **rds_processor.py**, this is a packaged designed to take in the query package and connection to process and build the dataframe.  The table will be stored in an item called **df**. During the building of the table, duplicates will be removed, you can view any of the duplicates by calling the **duplicate** item.  If the table is empty, then no duplicates were found.  You can view the dataframe by hitting **CONTROL + ENTER** on the cell labeled **VIEW DATA**"
   ]
  },
  {
   "cell_type": "code",
   "execution_count": 11,
   "metadata": {},
   "outputs": [],
   "source": [
    "# Create the Connector\n",
    "rds = RDS(conn, cursor, query_package) \n",
    "\n",
    "# Store the Dataframe\n",
    "df = rds.df\n",
    "\n",
    "# Store Duplicates\n",
    "duplicates = rds.duplicates"
   ]
  },
  {
   "cell_type": "markdown",
   "metadata": {},
   "source": [
    "##### VIEW DATA"
   ]
  },
  {
   "cell_type": "code",
   "execution_count": 12,
   "metadata": {},
   "outputs": [
    {
     "data": {
      "text/html": [
       "<div>\n",
       "<style scoped>\n",
       "    .dataframe tbody tr th:only-of-type {\n",
       "        vertical-align: middle;\n",
       "    }\n",
       "\n",
       "    .dataframe tbody tr th {\n",
       "        vertical-align: top;\n",
       "    }\n",
       "\n",
       "    .dataframe thead th {\n",
       "        text-align: right;\n",
       "    }\n",
       "</style>\n",
       "<table border=\"1\" class=\"dataframe\">\n",
       "  <thead>\n",
       "    <tr style=\"text-align: right;\">\n",
       "      <th></th>\n",
       "      <th>application_number</th>\n",
       "      <th>created_at</th>\n",
       "      <th>hotel_name</th>\n",
       "      <th>hotel_address_line_1</th>\n",
       "      <th>hotel_address_line_2</th>\n",
       "      <th>hotel_city</th>\n",
       "      <th>hotel_state</th>\n",
       "      <th>hotel_zip</th>\n",
       "      <th>hotel_status</th>\n",
       "      <th>license_in</th>\n",
       "      <th>license_out</th>\n",
       "      <th>total_in_household</th>\n",
       "      <th>active_bookings</th>\n",
       "      <th>pathway_determination</th>\n",
       "    </tr>\n",
       "  </thead>\n",
       "  <tbody>\n",
       "    <tr>\n",
       "      <th>0</th>\n",
       "      <td>KQ6625DD77</td>\n",
       "      <td>2024-09-27 18:40:42.775742+00:00</td>\n",
       "      <td>None</td>\n",
       "      <td>None</td>\n",
       "      <td>None</td>\n",
       "      <td>None</td>\n",
       "      <td>None</td>\n",
       "      <td>None</td>\n",
       "      <td>None</td>\n",
       "      <td>None</td>\n",
       "      <td>None</td>\n",
       "      <td>2.00</td>\n",
       "      <td>None</td>\n",
       "      <td>Hotel</td>\n",
       "    </tr>\n",
       "    <tr>\n",
       "      <th>1</th>\n",
       "      <td>B2B9MZYTQL</td>\n",
       "      <td>2024-10-01 18:06:55.607877+00:00</td>\n",
       "      <td></td>\n",
       "      <td></td>\n",
       "      <td></td>\n",
       "      <td></td>\n",
       "      <td>FL</td>\n",
       "      <td></td>\n",
       "      <td>Rejected</td>\n",
       "      <td>None</td>\n",
       "      <td>None</td>\n",
       "      <td>2.00</td>\n",
       "      <td>None</td>\n",
       "      <td>Commercial Site Placement</td>\n",
       "    </tr>\n",
       "    <tr>\n",
       "      <th>2</th>\n",
       "      <td>NY6LC7XV4W</td>\n",
       "      <td>2024-10-01 19:10:39.192189+00:00</td>\n",
       "      <td>None</td>\n",
       "      <td>None</td>\n",
       "      <td>None</td>\n",
       "      <td>None</td>\n",
       "      <td>None</td>\n",
       "      <td>None</td>\n",
       "      <td>None</td>\n",
       "      <td>None</td>\n",
       "      <td>None</td>\n",
       "      <td>None</td>\n",
       "      <td>None</td>\n",
       "      <td></td>\n",
       "    </tr>\n",
       "    <tr>\n",
       "      <th>3</th>\n",
       "      <td>4VD5687DFG</td>\n",
       "      <td>2024-10-01 20:01:35.440307+00:00</td>\n",
       "      <td></td>\n",
       "      <td></td>\n",
       "      <td></td>\n",
       "      <td></td>\n",
       "      <td>FL</td>\n",
       "      <td></td>\n",
       "      <td>Rejected</td>\n",
       "      <td>None</td>\n",
       "      <td>None</td>\n",
       "      <td>3.00</td>\n",
       "      <td>1.00</td>\n",
       "      <td>Hotel</td>\n",
       "    </tr>\n",
       "    <tr>\n",
       "      <th>4</th>\n",
       "      <td>2Y9YFK89FM</td>\n",
       "      <td>2024-10-01 20:43:52.325004+00:00</td>\n",
       "      <td>None</td>\n",
       "      <td>None</td>\n",
       "      <td>None</td>\n",
       "      <td>None</td>\n",
       "      <td>None</td>\n",
       "      <td>None</td>\n",
       "      <td>None</td>\n",
       "      <td>None</td>\n",
       "      <td>None</td>\n",
       "      <td>None</td>\n",
       "      <td>None</td>\n",
       "      <td>None</td>\n",
       "    </tr>\n",
       "    <tr>\n",
       "      <th>...</th>\n",
       "      <td>...</td>\n",
       "      <td>...</td>\n",
       "      <td>...</td>\n",
       "      <td>...</td>\n",
       "      <td>...</td>\n",
       "      <td>...</td>\n",
       "      <td>...</td>\n",
       "      <td>...</td>\n",
       "      <td>...</td>\n",
       "      <td>...</td>\n",
       "      <td>...</td>\n",
       "      <td>...</td>\n",
       "      <td>...</td>\n",
       "      <td>...</td>\n",
       "    </tr>\n",
       "    <tr>\n",
       "      <th>8353</th>\n",
       "      <td>3RZX6PVUBD</td>\n",
       "      <td>2024-12-20 15:07:08.057391+00:00</td>\n",
       "      <td>None</td>\n",
       "      <td>None</td>\n",
       "      <td>None</td>\n",
       "      <td>None</td>\n",
       "      <td>None</td>\n",
       "      <td>None</td>\n",
       "      <td>None</td>\n",
       "      <td>None</td>\n",
       "      <td>None</td>\n",
       "      <td>None</td>\n",
       "      <td>None</td>\n",
       "      <td>None</td>\n",
       "    </tr>\n",
       "    <tr>\n",
       "      <th>8354</th>\n",
       "      <td>NJA9WGVT9M</td>\n",
       "      <td>2024-12-20 15:10:57.757964+00:00</td>\n",
       "      <td>None</td>\n",
       "      <td>None</td>\n",
       "      <td>None</td>\n",
       "      <td>None</td>\n",
       "      <td>None</td>\n",
       "      <td>None</td>\n",
       "      <td>None</td>\n",
       "      <td>None</td>\n",
       "      <td>None</td>\n",
       "      <td>None</td>\n",
       "      <td>None</td>\n",
       "      <td>None</td>\n",
       "    </tr>\n",
       "    <tr>\n",
       "      <th>8355</th>\n",
       "      <td>U476QS7F9E</td>\n",
       "      <td>2024-12-20 15:23:36.200563+00:00</td>\n",
       "      <td>None</td>\n",
       "      <td>None</td>\n",
       "      <td>None</td>\n",
       "      <td>None</td>\n",
       "      <td>None</td>\n",
       "      <td>None</td>\n",
       "      <td>None</td>\n",
       "      <td>None</td>\n",
       "      <td>None</td>\n",
       "      <td>None</td>\n",
       "      <td>None</td>\n",
       "      <td>None</td>\n",
       "    </tr>\n",
       "    <tr>\n",
       "      <th>8356</th>\n",
       "      <td>HT8Q6LM3B6</td>\n",
       "      <td>2024-12-20 16:08:29.894267+00:00</td>\n",
       "      <td>None</td>\n",
       "      <td>None</td>\n",
       "      <td>None</td>\n",
       "      <td>None</td>\n",
       "      <td>None</td>\n",
       "      <td>None</td>\n",
       "      <td>None</td>\n",
       "      <td>None</td>\n",
       "      <td>None</td>\n",
       "      <td>1.00</td>\n",
       "      <td>None</td>\n",
       "      <td>None</td>\n",
       "    </tr>\n",
       "    <tr>\n",
       "      <th>8357</th>\n",
       "      <td>7RHX5T52A2</td>\n",
       "      <td>2024-12-20 16:47:11.815867+00:00</td>\n",
       "      <td>None</td>\n",
       "      <td>None</td>\n",
       "      <td>None</td>\n",
       "      <td>None</td>\n",
       "      <td>None</td>\n",
       "      <td>None</td>\n",
       "      <td>None</td>\n",
       "      <td>None</td>\n",
       "      <td>None</td>\n",
       "      <td>2.00</td>\n",
       "      <td>None</td>\n",
       "      <td>None</td>\n",
       "    </tr>\n",
       "  </tbody>\n",
       "</table>\n",
       "<p>8241 rows × 14 columns</p>\n",
       "</div>"
      ],
      "text/plain": [
       "     application_number                       created_at hotel_name  \\\n",
       "0            KQ6625DD77 2024-09-27 18:40:42.775742+00:00       None   \n",
       "1            B2B9MZYTQL 2024-10-01 18:06:55.607877+00:00              \n",
       "2            NY6LC7XV4W 2024-10-01 19:10:39.192189+00:00       None   \n",
       "3            4VD5687DFG 2024-10-01 20:01:35.440307+00:00              \n",
       "4            2Y9YFK89FM 2024-10-01 20:43:52.325004+00:00       None   \n",
       "...                 ...                              ...        ...   \n",
       "8353         3RZX6PVUBD 2024-12-20 15:07:08.057391+00:00       None   \n",
       "8354         NJA9WGVT9M 2024-12-20 15:10:57.757964+00:00       None   \n",
       "8355         U476QS7F9E 2024-12-20 15:23:36.200563+00:00       None   \n",
       "8356         HT8Q6LM3B6 2024-12-20 16:08:29.894267+00:00       None   \n",
       "8357         7RHX5T52A2 2024-12-20 16:47:11.815867+00:00       None   \n",
       "\n",
       "     hotel_address_line_1 hotel_address_line_2 hotel_city hotel_state  \\\n",
       "0                    None                 None       None        None   \n",
       "1                                                                  FL   \n",
       "2                    None                 None       None        None   \n",
       "3                                                                  FL   \n",
       "4                    None                 None       None        None   \n",
       "...                   ...                  ...        ...         ...   \n",
       "8353                 None                 None       None        None   \n",
       "8354                 None                 None       None        None   \n",
       "8355                 None                 None       None        None   \n",
       "8356                 None                 None       None        None   \n",
       "8357                 None                 None       None        None   \n",
       "\n",
       "     hotel_zip hotel_status license_in license_out total_in_household  \\\n",
       "0         None         None       None        None               2.00   \n",
       "1                  Rejected       None        None               2.00   \n",
       "2         None         None       None        None               None   \n",
       "3                  Rejected       None        None               3.00   \n",
       "4         None         None       None        None               None   \n",
       "...        ...          ...        ...         ...                ...   \n",
       "8353      None         None       None        None               None   \n",
       "8354      None         None       None        None               None   \n",
       "8355      None         None       None        None               None   \n",
       "8356      None         None       None        None               1.00   \n",
       "8357      None         None       None        None               2.00   \n",
       "\n",
       "     active_bookings      pathway_determination  \n",
       "0               None                      Hotel  \n",
       "1               None  Commercial Site Placement  \n",
       "2               None                             \n",
       "3               1.00                      Hotel  \n",
       "4               None                       None  \n",
       "...              ...                        ...  \n",
       "8353            None                       None  \n",
       "8354            None                       None  \n",
       "8355            None                       None  \n",
       "8356            None                       None  \n",
       "8357            None                       None  \n",
       "\n",
       "[8241 rows x 14 columns]"
      ]
     },
     "execution_count": 12,
     "metadata": {},
     "output_type": "execute_result"
    }
   ],
   "source": [
    "df"
   ]
  },
  {
   "cell_type": "markdown",
   "metadata": {},
   "source": [
    "<br></br>"
   ]
  },
  {
   "cell_type": "markdown",
   "metadata": {},
   "source": [
    "## DataFrame Modification Section\n",
    "\n",
    "In this section, you can modify the DataFrame as needed. Use the cells below to perform any necessary transformations, cleaning, or manipulations. Ensure that the final form of your DataFrame is saved as `df` for consistency and further use.\n"
   ]
  },
  {
   "cell_type": "code",
   "execution_count": 13,
   "metadata": {},
   "outputs": [],
   "source": [
    "########    PERFORM ETL WITH PANDAS    #########"
   ]
  },
  {
   "cell_type": "markdown",
   "metadata": {},
   "source": [
    "<br></br>"
   ]
  },
  {
   "cell_type": "markdown",
   "metadata": {},
   "source": [
    "## Loading DataFrame to S3 Bucket\n",
    "\n",
    "In this final step, we will load the processed DataFrame to an AWS S3 bucket. This process involves saving the DataFrame as a file in the specified S3 bucket's active folder, and additionally making a copy of this file in the archive folder. This ensures that the most recent data is available in the active location, while also maintaining a historical record of previous data versions in the archive.\n"
   ]
  },
  {
   "cell_type": "markdown",
   "metadata": {},
   "source": [
    "### Store S3 Bucket Information\n",
    "\n",
    "In this section you will find the S3 Bucket that we will be sumitting the dataframe to and storing that information for later use.  To do this you will need the name of the project folder you are trying to submit to followed by a **\"/\"**.  You will also need to enter the name of the bucket, as of right now, it should always be **reporting-external**, but if this changes, it will have to be updated below.  Also before this step, make sure that you have correctly set up the S3 Bucket to receive data, if you havent done this, follow the tutorial **Set Up S3 Bucket for Data Upload**\n",
    "\n",
    "\n",
    "##### EXAMPLE\n",
    "\n",
    "```python\n",
    "bucket = 'reporting-external'\n",
    "project_folder = 'Example_for_Tutorial/'"
   ]
  },
  {
   "cell_type": "code",
   "execution_count": 14,
   "metadata": {},
   "outputs": [],
   "source": [
    "# Set Bucket Name\n",
    "bucket = 'reporting-external'\n",
    "\n",
    "#Set Project Folder\n",
    "project_folder = 'Example_for_Tutorial/'\n"
   ]
  },
  {
   "cell_type": "markdown",
   "metadata": {},
   "source": [
    "<div style=\"height: 10px;\"></div>"
   ]
  },
  {
   "cell_type": "markdown",
   "metadata": {},
   "source": [
    "## Creating a Boto3 Client for S3\n",
    "\n",
    "In this section, we will create a Boto3 client for AWS S3. The Boto3 client is essential for interacting with S3 services, allowing us to upload, download, and manage data stored in S3 buckets.  Credentials for this connection is stored in the .env file\n",
    "\n",
    "### Storing Credentials Securely\n",
    "\n",
    "To ensure that our AWS credentials (access key and secret key) are kept secure, we store them in a `.env` file. This approach prevents sensitive information from being hard-coded into the source code, enhancing the security of our application."
   ]
  },
  {
   "cell_type": "code",
   "execution_count": 15,
   "metadata": {},
   "outputs": [],
   "source": [
    "# Create a Boto3 client for S3\n",
    "s3 = boto3.client(\n",
    "    's3',\n",
    "    aws_access_key_id=access,\n",
    "    aws_secret_access_key=secret\n",
    ")"
   ]
  },
  {
   "cell_type": "markdown",
   "metadata": {},
   "source": [
    "<div style=\"height: 10px;\"></div>"
   ]
  },
  {
   "cell_type": "markdown",
   "metadata": {},
   "source": [
    "### Load DataFrame to Active S3 Bucket\n",
    "\n",
    "In this section, we will take the final DataFrame from the previous step and load it into a folder within an S3 bucket. The function `update_active_data` will be used for this purpose. Here’s a breakdown of the parameters being passed into the function:\n",
    "\n",
    "- **s3**: This is the Boto3 client for S3, which allows us to interact with the AWS S3 service.\n",
    "- **bucket**: The name of the S3 bucket where the data will be uploaded.\n",
    "- **project_folder**: The main project folder within the S3 bucket, which organizes your data.\n",
    "- **active_folder**: The specific subfolder within the project folder where the active data will be stored. In this case, it is set to `'Active/'`.\n",
    "- **file_name**: The name of the file that will be created in the active folder. This name can include dynamic elements such as the project folder name.\n",
    "- **data**: The DataFrame containing the data to be uploaded. This should be the final form of the DataFrame, saved as `df`."
   ]
  },
  {
   "cell_type": "code",
   "execution_count": 16,
   "metadata": {},
   "outputs": [],
   "source": [
    "update_active_data(\n",
    "    s3 = s3, \n",
    "    bucket = bucket, \n",
    "    project_folder = project_folder, \n",
    "    active_folder = 'Active/', \n",
    "    file_name = f\"Active-{project_folder.replace(\"/\", \"\").replace(\"_\", \"-\")}.csv\", \n",
    "    data = df\n",
    ")"
   ]
  },
  {
   "cell_type": "markdown",
   "metadata": {},
   "source": [
    "<div style=\"height: 10px;\"></div>"
   ]
  },
  {
   "cell_type": "markdown",
   "metadata": {},
   "source": [
    "### Load Archive to S3 Bucket\n",
    "\n",
    "In this section, we will take a copy of the DataFrame and load it into an archive folder within the S3 bucket. The archive will maintain a maximum of 50 records in a rolling fashion, meaning new entries beyond 50 will replace the oldest ones. This setup ensures that you always have access to the most recent data while retaining a historical record up to a specified limit.\n",
    "\n",
    "The function `add_archive` will be used for this purpose. Here’s a breakdown of the parameters being passed into the function:\n",
    "\n",
    "- **s3**: This is the Boto3 client for S3, which allows us to interact with the AWS S3 service.\n",
    "- **bucket**: The name of the S3 bucket where the data will be archived.\n",
    "- **project_folder**: The main project folder within the S3 bucket, which organizes your data.\n",
    "- **archive_folder**: The specific subfolder within the project folder where the archived data will be stored.\n",
    "- **limit**: The maximum number of records to be retained in the archive. Once this limit is reached, older records will be replaced by newer ones.\n",
    "- **versions**: This represents the archive history, such as `rds.archive`, which keeps track of previous data versions."
   ]
  },
  {
   "cell_type": "code",
   "execution_count": 17,
   "metadata": {},
   "outputs": [],
   "source": [
    "add_archive(\n",
    "    s3 = s3, \n",
    "    bucket = bucket, \n",
    "    project_folder = project_folder, \n",
    "    archive_folder = 'Archive/', \n",
    "    limit = 50,\n",
    "    archive_package = rds.archive\n",
    ")"
   ]
  }
 ],
 "metadata": {
  "kernelspec": {
   "display_name": "tidal-basin",
   "language": "python",
   "name": "python3"
  },
  "language_info": {
   "codemirror_mode": {
    "name": "ipython",
    "version": 3
   },
   "file_extension": ".py",
   "mimetype": "text/x-python",
   "name": "python",
   "nbconvert_exporter": "python",
   "pygments_lexer": "ipython3",
   "version": "3.12.7"
  }
 },
 "nbformat": 4,
 "nbformat_minor": 2
}
